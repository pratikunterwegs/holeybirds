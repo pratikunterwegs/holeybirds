{
  "cells": [
    {
      "cell_type": "markdown",
      "metadata": {
        "colab_type": "text",
        "id": "view-in-github"
      },
      "source": [
        "<a href=\"https://colab.research.google.com/github/pratikunterwegs/holeybirds/blob/master/get_elev_indices_hula.ipynb\" target=\"_parent\"><img src=\"https://colab.research.google.com/assets/colab-badge.svg\" alt=\"Open In Colab\"/></a>"
      ]
    },
    {
      "cell_type": "code",
      "execution_count": null,
      "metadata": {
        "colab": {
          "base_uri": "https://localhost:8080/"
        },
        "id": "ph-L22zbWppM",
        "outputId": "e45390c5-6482-4eb1-a71e-a1b577d46854"
      },
      "outputs": [],
      "source": [
        "#!/usr/bin/env python\n",
        "# coding: utf-8\n",
        "\n",
        "import subprocess\n",
        "\n",
        "try:\n",
        "    import geemap\n",
        "except ImportError:\n",
        "    print('geemap package not installed. Installing ...')\n",
        "    subprocess.check_call([\"python\", '-m', 'pip', 'install', 'geemap'])\n",
        "\n",
        "# Checks whether this notebook is running on Google Colab\n",
        "try:\n",
        "    import google.colab\n",
        "    import geemap.eefolium as geemap\n",
        "except:\n",
        "    import geemap\n",
        "\n",
        "# Authenticates and initializes Earth Engine\n",
        "import ee\n",
        "\n",
        "try:\n",
        "    ee.Initialize()\n",
        "except Exception as e:\n",
        "    ee.Authenticate()\n",
        "    ee.Initialize()"
      ]
    },
    {
      "cell_type": "code",
      "execution_count": null,
      "metadata": {
        "id": "rHMnRHVUW0vK"
      },
      "outputs": [],
      "source": [
        "# get study area bounding box\n",
        "hula = ee.FeatureCollection(\"users/pratik_unterwegs/hula_valley\");\n",
        "\n",
        "# get elevation data\n",
        "dataset = ee.Image('USGS/SRTMGL1_003');\n",
        "elevation = dataset.select('elevation');\n",
        "\n",
        "# hula valley 10km buffer\n",
        "hula_buffer = hula.geometry()\n",
        "\n",
        "# define start and end date june and dec 2016\n",
        "start_date = '2016-06-01'\n",
        "end_date = '2016-12-01'\n",
        "\n",
        "# clip elevation data\n",
        "elevation_clip = elevation.clip(hula_buffer);\n",
        "\n",
        "# get sentinel data for the time range 2016\n",
        "sentinel = ee.ImageCollection(\"COPERNICUS/S2\")\n",
        "sentinel_bounds = sentinel.filterBounds(hula_buffer)\n",
        "sentinel_2016 = sentinel_bounds.filterDate(start_date, end_date)"
      ]
    },
    {
      "cell_type": "code",
      "execution_count": null,
      "metadata": {
        "id": "ty9Hmf0uXFBq"
      },
      "outputs": [],
      "source": [
        "\n",
        "# adding a NDVI band\n",
        "def add_ndvi(image):\n",
        "    ndvi = image.normalizedDifference(['B8', 'B4']).rename('ndvi')\n",
        "    return image.addBands([ndvi])"
      ]
    },
    {
      "cell_type": "code",
      "execution_count": null,
      "metadata": {
        "id": "nWXCtkkjXHr1"
      },
      "outputs": [],
      "source": [
        "# map metrics over sentinel\n",
        "sentinel_ndvi = sentinel_2016.map(add_ndvi)\n",
        "\n",
        "# get median values\n",
        "ndvi_median = sentinel_ndvi.select('ndvi').median()\n",
        "\n",
        "# clip to geometry\n",
        "ndvi_clip = ndvi_median.clip(hula_buffer)"
      ]
    },
    {
      "cell_type": "code",
      "execution_count": null,
      "metadata": {
        "colab": {
          "base_uri": "https://localhost:8080/",
          "height": 1000
        },
        "id": "gqoZt4f_XKao",
        "outputId": "4a475b34-fa28-4112-b088-563268fc3f86"
      },
      "outputs": [],
      "source": [
        "# Define an sld style color ramp to apply to the image.\n",
        "sld_ramp = \\\n",
        "  '<RasterSymbolizer>' + \\\n",
        "    '<ColorMap type=\"ramp\" extended=\"false\" >' + \\\n",
        "      '<ColorMapEntry color=\"#0D0887\" quantity=\"-1\" label=\"0\"/>' + \\\n",
        "      '<ColorMapEntry color=\"#CC4678\" quantity=\"0\" label=\"50\" />' + \\\n",
        "      '<ColorMapEntry color=\"#F0F921\" quantity=\"0.5\" label=\"100\" />' + \\\n",
        "    '</ColorMap>' + \\\n",
        "  '</RasterSymbolizer>';\n",
        "\n",
        "\n",
        "# print layers\n",
        "vis = {'bands': ['elevation']}\n",
        "Map = geemap.Map(center=[33.0005,33.5], zoom=9)\n",
        "Map.addLayer(ndvi_clip.sldStyle(sld_ramp), {}, 'ndvi')\n",
        "Map.addLayer(hula)\n",
        "Map.addLayerControl()\n",
        "\n",
        "Map"
      ]
    },
    {
      "cell_type": "code",
      "execution_count": null,
      "metadata": {
        "id": "wz5pXfFGXkz6"
      },
      "outputs": [],
      "source": [
        "# export image to drive\n",
        "downConfig = {'scale': 30, \"maxPixels\": 1.0E13, 'driveFolder': 'hula_rasters'}  # scale means resolution.\n",
        "name = \"raster_hula_srtm_30\"\n",
        "# print(name)\n",
        "task = ee.batch.Export.image(elevation_clip, name, downConfig)\n",
        "task.start()"
      ]
    },
    {
      "cell_type": "code",
      "execution_count": null,
      "metadata": {
        "id": "zDzW5LxBZTuq"
      },
      "outputs": [],
      "source": [
        "# export image to drive\n",
        "downConfig = {'scale': 10, \"maxPixels\": 1.0E13, 'driveFolder': 'hula_rasters'}  # changed scale for sentinel\n",
        "name = \"raster_hula_ndbi\"\n",
        "# print(name)\n",
        "task = ee.batch.Export.image(ndbi_clip, name, downConfig)\n",
        "task.start()\n",
        "\n",
        "# export ndvi to drive\n",
        "name_ndvi = \"raster_hula_ndvi\"\n",
        "# print(name)\n",
        "task_ndvi = ee.batch.Export.image(ndvi_clip, name_ndvi, downConfig)\n",
        "task_ndvi.start()"
      ]
    }
  ],
  "metadata": {
    "colab": {
      "authorship_tag": "ABX9TyN+efLz3vDX0BwV002U7stW",
      "collapsed_sections": [],
      "include_colab_link": true,
      "name": "get-elev-indices-hula.ipynb",
      "provenance": []
    },
    "kernelspec": {
      "display_name": "Python 3",
      "name": "python3"
    },
    "language_info": {
      "name": "python"
    }
  },
  "nbformat": 4,
  "nbformat_minor": 2
}
