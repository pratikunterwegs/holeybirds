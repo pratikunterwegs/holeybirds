{
  "nbformat": 4,
  "nbformat_minor": 2,
  "metadata": {
    "colab": {
      "name": "get-elev-indices-hula.ipynb",
      "provenance": [],
      "collapsed_sections": [],
      "authorship_tag": "ABX9TyN+efLz3vDX0BwV002U7stW",
      "include_colab_link": true
    },
    "kernelspec": {
      "name": "python3",
      "display_name": "Python 3"
    },
    "language_info": {
      "name": "python"
    }
  },
  "cells": [
    {
      "cell_type": "markdown",
      "source": [
        "<a href=\"https://colab.research.google.com/github/pratikunterwegs/holeybirds/blob/master/get_elev_indices_hula.ipynb\" target=\"_parent\"><img src=\"https://colab.research.google.com/assets/colab-badge.svg\" alt=\"Open In Colab\"/></a>"
      ],
      "metadata": {
        "id": "view-in-github",
        "colab_type": "text"
      }
    },
    {
      "cell_type": "code",
      "execution_count": 1,
      "source": [
        "#!/usr/bin/env python\r\n",
        "# coding: utf-8\r\n",
        "\r\n",
        "import subprocess\r\n",
        "\r\n",
        "try:\r\n",
        "    import geemap\r\n",
        "except ImportError:\r\n",
        "    print('geemap package not installed. Installing ...')\r\n",
        "    subprocess.check_call([\"python\", '-m', 'pip', 'install', 'geemap'])\r\n",
        "\r\n",
        "# Checks whether this notebook is running on Google Colab\r\n",
        "try:\r\n",
        "    import google.colab\r\n",
        "    import geemap.eefolium as geemap\r\n",
        "except:\r\n",
        "    import geemap\r\n",
        "\r\n",
        "# Authenticates and initializes Earth Engine\r\n",
        "import ee\r\n",
        "\r\n",
        "try:\r\n",
        "    ee.Initialize()\r\n",
        "except Exception as e:\r\n",
        "    ee.Authenticate()\r\n",
        "    ee.Initialize()"
      ],
      "outputs": [
        {
          "output_type": "stream",
          "name": "stdout",
          "text": [
            "geemap package not installed. Installing ...\n",
            "To authorize access needed by Earth Engine, open the following URL in a web browser and follow the instructions. If the web browser does not start automatically, please manually browse the URL below.\n",
            "\n",
            "    https://accounts.google.com/o/oauth2/auth?client_id=517222506229-vsmmajv00ul0bs7p89v5m89qs8eb9359.apps.googleusercontent.com&scope=https%3A%2F%2Fwww.googleapis.com%2Fauth%2Fearthengine+https%3A%2F%2Fwww.googleapis.com%2Fauth%2Fdevstorage.full_control&redirect_uri=urn%3Aietf%3Awg%3Aoauth%3A2.0%3Aoob&response_type=code&code_challenge=RbH1Usb0yO2nSyB7FEqKP--a4DFbrlbBXuWiTtrKUd0&code_challenge_method=S256\n",
            "\n",
            "The authorization workflow will generate a code, which you should paste in the box below. \n",
            "Enter verification code: 4/1AX4XfWhqW15U7bxkD0ERp4g5_JBfsxD8WKsf7vq62lFu5VXCba-yxO-UJr4\n",
            "\n",
            "Successfully saved authorization token.\n"
          ]
        }
      ],
      "metadata": {
        "colab": {
          "base_uri": "https://localhost:8080/"
        },
        "id": "ph-L22zbWppM",
        "outputId": "e45390c5-6482-4eb1-a71e-a1b577d46854"
      }
    },
    {
      "cell_type": "code",
      "execution_count": 14,
      "source": [
        "# get study area bounding box\r\n",
        "hula = ee.FeatureCollection(\"users/pratik_unterwegs/hula_valley\");\r\n",
        "\r\n",
        "# get elevation data\r\n",
        "dataset = ee.Image('USGS/SRTMGL1_003');\r\n",
        "elevation = dataset.select('elevation');\r\n",
        "\r\n",
        "# hula valley 10km buffer\r\n",
        "hula_buffer = hula.geometry()\r\n",
        "\r\n",
        "# define start and end date june and dec 2016\r\n",
        "start_date = '2016-06-01'\r\n",
        "end_date = '2016-12-01'\r\n",
        "\r\n",
        "# clip elevation data\r\n",
        "elevation_clip = elevation.clip(hula_buffer);\r\n",
        "\r\n",
        "# get sentinel data for the time range 2016\r\n",
        "sentinel = ee.ImageCollection(\"COPERNICUS/S2\")\r\n",
        "sentinel_bounds = sentinel.filterBounds(hula_buffer)\r\n",
        "sentinel_2016 = sentinel_bounds.filterDate(start_date, end_date)"
      ],
      "outputs": [],
      "metadata": {
        "id": "rHMnRHVUW0vK"
      }
    },
    {
      "cell_type": "code",
      "execution_count": 3,
      "source": [
        "\r\n",
        "# adding a NDVI band\r\n",
        "def add_ndvi(image):\r\n",
        "    ndvi = image.normalizedDifference(['B8', 'B4']).rename('ndvi')\r\n",
        "    return image.addBands([ndvi])\r\n",
        "\r\n",
        "\r\n",
        "# add an NDBI band\r\n",
        "def add_ndbi(image):\r\n",
        "    ndbi = image.normalizedDifference(['B11', 'B8']).rename('ndbi')\r\n",
        "    return image.addBands([ndbi])"
      ],
      "outputs": [],
      "metadata": {
        "id": "ty9Hmf0uXFBq"
      }
    },
    {
      "cell_type": "code",
      "execution_count": 15,
      "source": [
        "# map metrics over sentinel\r\n",
        "sentinel_ndvi = sentinel_2016.map(add_ndvi)\r\n",
        "sentinel_ndbi = sentinel_2016.map(add_ndbi)\r\n",
        "\r\n",
        "# get median values\r\n",
        "ndvi_median = sentinel_ndvi.select('ndvi').median()\r\n",
        "ndbi_median = sentinel_ndbi.select('ndbi').median()\r\n",
        "\r\n",
        "# clip to geometry\r\n",
        "ndvi_clip = ndvi_median.clip(hula_buffer)\r\n",
        "ndbi_clip = ndbi_median.clip(hula_buffer)\r\n",
        "\r\n",
        "# get built up prob as ndbi - ndvi\r\n",
        "built = ndbi_median.subtract(ndvi_median)\r\n",
        "built_clip = built.clip(hula_buffer)"
      ],
      "outputs": [],
      "metadata": {
        "id": "nWXCtkkjXHr1"
      }
    },
    {
      "cell_type": "code",
      "execution_count": null,
      "source": [
        "# Define an sld style color ramp to apply to the image.\r\n",
        "sld_ramp = \\\r\n",
        "  '<RasterSymbolizer>' + \\\r\n",
        "    '<ColorMap type=\"ramp\" extended=\"false\" >' + \\\r\n",
        "      '<ColorMapEntry color=\"#0D0887\" quantity=\"-1\" label=\"0\"/>' + \\\r\n",
        "      '<ColorMapEntry color=\"#CC4678\" quantity=\"0\" label=\"50\" />' + \\\r\n",
        "      '<ColorMapEntry color=\"#F0F921\" quantity=\"0.5\" label=\"100\" />' + \\\r\n",
        "    '</ColorMap>' + \\\r\n",
        "  '</RasterSymbolizer>';\r\n",
        "\r\n",
        "\r\n",
        "# print layers\r\n",
        "vis = {'bands': ['elevation']}\r\n",
        "Map = geemap.Map(center=[33.0005,33.5], zoom=9)\r\n",
        "Map.addLayer(ndvi_clip.sldStyle(sld_ramp), {}, 'ndvi')\r\n",
        "Map.addLayer(hula)\r\n",
        "Map.addLayerControl()\r\n",
        "\r\n",
        "Map"
      ],
      "outputs": [],
      "metadata": {
        "colab": {
          "base_uri": "https://localhost:8080/",
          "height": 1000
        },
        "id": "gqoZt4f_XKao",
        "outputId": "4a475b34-fa28-4112-b088-563268fc3f86"
      }
    },
    {
      "cell_type": "code",
      "execution_count": 18,
      "source": [
        "# export image to drive\r\n",
        "downConfig = {'scale': 30, \"maxPixels\": 1.0E13, 'driveFolder': 'hula_rasters'}  # scale means resolution.\r\n",
        "name = \"raster_hula_srtm_30\"\r\n",
        "# print(name)\r\n",
        "task = ee.batch.Export.image(elevation_clip, name, downConfig)\r\n",
        "task.start()"
      ],
      "outputs": [],
      "metadata": {
        "id": "wz5pXfFGXkz6"
      }
    },
    {
      "cell_type": "code",
      "execution_count": 19,
      "source": [
        "# export image to drive\r\n",
        "downConfig = {'scale': 10, \"maxPixels\": 1.0E13, 'driveFolder': 'hula_rasters'}  # changed scale for sentinel\r\n",
        "name = \"raster_hula_ndbi\"\r\n",
        "# print(name)\r\n",
        "task = ee.batch.Export.image(ndbi_clip, name, downConfig)\r\n",
        "task.start()\r\n",
        "\r\n",
        "# export ndvi to drive\r\n",
        "name_ndvi = \"raster_hula_ndvi\"\r\n",
        "# print(name)\r\n",
        "task_ndvi = ee.batch.Export.image(ndvi_clip, name_ndvi, downConfig)\r\n",
        "task_ndvi.start()"
      ],
      "outputs": [],
      "metadata": {
        "id": "zDzW5LxBZTuq"
      }
    }
  ]
}